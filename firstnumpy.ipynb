{
 "cells": [
  {
   "cell_type": "code",
   "execution_count": 13,
   "id": "b74af1a2-eeb8-4db1-b973-934fb25b8670",
   "metadata": {},
   "outputs": [
    {
     "name": "stdout",
     "output_type": "stream",
     "text": [
      "[1 2 3 4 5]\n",
      "<class 'numpy.ndarray'>\n",
      "1\n"
     ]
    }
   ],
   "source": [
    "import numpy as np\n",
    "x = np.array([1,2,3,4,5])\n",
    "print(x)\n",
    "print(type(x))\n",
    "print(x.ndim)"
   ]
  },
  {
   "cell_type": "code",
   "execution_count": 15,
   "id": "0f75bed7-2760-4e15-b209-2d55548a0c52",
   "metadata": {},
   "outputs": [
    {
     "data": {
      "text/plain": [
       "array([1, 2, 3, 4])"
      ]
     },
     "execution_count": 15,
     "metadata": {},
     "output_type": "execute_result"
    }
   ],
   "source": [
    "import numpy as np\n",
    "x = [1,2,3,4]\n",
    "y = np.array(x)\n",
    "y"
   ]
  },
  {
   "cell_type": "code",
   "execution_count": 16,
   "id": "6cea802a-332f-4fb6-aeb2-5653cc2f04e1",
   "metadata": {},
   "outputs": [
    {
     "name": "stdin",
     "output_type": "stream",
     "text": [
      "Enter the numbers of your choice: 1\n",
      "Enter the numbers of your choice: 2\n",
      "Enter the numbers of your choice: 3\n",
      "Enter the numbers of your choice: 4\n"
     ]
    },
    {
     "name": "stdout",
     "output_type": "stream",
     "text": [
      "[1 2 3 4]\n"
     ]
    }
   ],
   "source": [
    "l = []\n",
    "for i in range(1,5):\n",
    "    x = int(input(\"Enter the numbers of your choice:\"))\n",
    "    l.append(x)\n",
    "print(np.array(l))\n"
   ]
  },
  {
   "cell_type": "code",
   "execution_count": 21,
   "id": "326ef7dc-0511-422b-a85a-0b5b14a9acdb",
   "metadata": {},
   "outputs": [
    {
     "name": "stdout",
     "output_type": "stream",
     "text": [
      "[[1 2 3 4]\n",
      " [1 2 3 4]]\n",
      "2\n"
     ]
    }
   ],
   "source": [
    "x = np.array([[1,2,3,4],[1,2,3,4]])\n",
    "print(x)\n",
    "print(x.ndim)"
   ]
  },
  {
   "cell_type": "code",
   "execution_count": 23,
   "id": "f72d496b-5802-4e3d-996e-dd8c6147b473",
   "metadata": {},
   "outputs": [
    {
     "name": "stdout",
     "output_type": "stream",
     "text": [
      "[[1 2 3 4]\n",
      " [5 6 7 8]]\n",
      "2\n"
     ]
    }
   ],
   "source": [
    "l = [[1,2,3,4],[5,6,7,8]]\n",
    "x = np.array(l)\n",
    "print(x)\n",
    "print(x.ndim)"
   ]
  },
  {
   "cell_type": "code",
   "execution_count": 25,
   "id": "b49a551e-b85e-401b-b2c4-564399e4622b",
   "metadata": {},
   "outputs": [
    {
     "name": "stdout",
     "output_type": "stream",
     "text": [
      "[1 2 3 4]\n"
     ]
    }
   ],
   "source": [
    "import numpy as np\n",
    "x = np.array([1,2,3,4])\n",
    "print(x)\n"
   ]
  },
  {
   "cell_type": "code",
   "execution_count": 1,
   "id": "ec521d68-b1c7-4117-8fb3-8f03c5aa25cd",
   "metadata": {},
   "outputs": [
    {
     "name": "stdout",
     "output_type": "stream",
     "text": [
      "[[[1 2 3 4]\n",
      "  [1 2 3 4]\n",
      "  [1 2 3 4]]]\n",
      "3\n"
     ]
    }
   ],
   "source": [
    "import numpy as np\n",
    "l = [[[1,2,3,4],[1,2,3,4],[1,2,3,4]]]\n",
    "x = np.array(l)\n",
    "print(x)\n",
    "print(x.ndim)"
   ]
  },
  {
   "cell_type": "code",
   "execution_count": 7,
   "id": "6a149ca6-e217-453b-8275-581e45b77c0d",
   "metadata": {},
   "outputs": [
    {
     "name": "stdout",
     "output_type": "stream",
     "text": [
      "[0. 0. 0. 0.]\n",
      "\n",
      "[[0. 0. 0. 0.]\n",
      " [0. 0. 0. 0.]\n",
      " [0. 0. 0. 0.]]\n"
     ]
    }
   ],
   "source": [
    " import numpy as np\n",
    "arr_zeros = np.zeros(4)\n",
    "arr_zeros1 = np.zeros((3,4))\n",
    "print(arr_zeros)\n",
    "print()\n",
    "print(arr_zeros1)"
   ]
  },
  {
   "cell_type": "code",
   "execution_count": 11,
   "id": "4c70599a-67b9-4d2f-a2f7-9aa534c1c808",
   "metadata": {},
   "outputs": [
    {
     "name": "stdout",
     "output_type": "stream",
     "text": [
      "[1. 1. 1.]\n",
      "\n",
      "[[1. 1. 1. 1.]\n",
      " [1. 1. 1. 1.]\n",
      " [1. 1. 1. 1.]]\n"
     ]
    }
   ],
   "source": [
    "import numpy as np\n",
    "arr_ones = np.ones(3)\n",
    "arr_ones1 = np.ones((3,4))\n",
    "print(arr_ones)\n",
    "print()\n",
    "print(arr_ones1)"
   ]
  },
  {
   "cell_type": "code",
   "execution_count": 15,
   "id": "d28c42fb-7ef2-435e-84aa-af175d1d0b09",
   "metadata": {},
   "outputs": [
    {
     "name": "stdout",
     "output_type": "stream",
     "text": [
      "[]\n",
      "2\n"
     ]
    }
   ],
   "source": [
    "import numpy as np\n",
    "arr_empty = np.empty((3,0))\n",
    "print(arr_empty)\n",
    "print(arr_empty.ndim)"
   ]
  },
  {
   "cell_type": "code",
   "execution_count": null,
   "id": "978d461c-0539-491c-90db-a106a5f9f99f",
   "metadata": {},
   "outputs": [],
   "source": [
    "#Range\n",
    "import numpy as np\n",
    "ar_rn = np.arange(4)\n",
    "print(ar_rn)"
   ]
  },
  {
   "cell_type": "code",
   "execution_count": 36,
   "id": "69777125-f327-4ca5-b7e0-f72003244fb8",
   "metadata": {},
   "outputs": [
    {
     "name": "stdout",
     "output_type": "stream",
     "text": [
      "[3]\n",
      "1\n"
     ]
    }
   ],
   "source": [
    "import numpy as np\n",
    "ar_rn = np.arange(3,4)\n",
    "print(ar_rn)\n",
    "print(ar_rn.ndim)"
   ]
  },
  {
   "cell_type": "code",
   "execution_count": 40,
   "id": "1244b5bd-14e3-47d8-a846-edc6ac2ffa11",
   "metadata": {},
   "outputs": [
    {
     "name": "stdout",
     "output_type": "stream",
     "text": [
      "[[1. 0. 0.]\n",
      " [0. 1. 0.]\n",
      " [0. 0. 1.]]\n"
     ]
    }
   ],
   "source": [
    "#diagonal\n",
    "arr_diag = np.eye(3)\n",
    "print(arr_diag)"
   ]
  },
  {
   "cell_type": "code",
   "execution_count": 42,
   "id": "beb3f5bb-af60-457f-939b-62c4f164941f",
   "metadata": {},
   "outputs": [
    {
     "name": "stdout",
     "output_type": "stream",
     "text": [
      "[[1. 0. 0. 0. 0.]\n",
      " [0. 1. 0. 0. 0.]\n",
      " [0. 0. 1. 0. 0.]]\n"
     ]
    }
   ],
   "source": [
    "arr_diag = np.eye(3,5)\n",
    "print(arr_diag)"
   ]
  },
  {
   "cell_type": "code",
   "execution_count": 44,
   "id": "b156f662-e8a5-4a88-8451-cbae8cef5994",
   "metadata": {},
   "outputs": [
    {
     "name": "stdout",
     "output_type": "stream",
     "text": [
      "[ 0.  5. 10. 15. 20.]\n"
     ]
    }
   ],
   "source": [
    "#linespace\n",
    "arr_lin = np.linspace(0,20, num=5)\n",
    "print(arr_lin)"
   ]
  },
  {
   "cell_type": "code",
   "execution_count": 46,
   "id": "7fc67215-f0c9-4780-a154-822ccce0c2de",
   "metadata": {},
   "outputs": [
    {
     "name": "stdout",
     "output_type": "stream",
     "text": [
      "[0.57270838 0.9625957  0.3693309  0.153144  ]\n"
     ]
    }
   ],
   "source": [
    "#random\n",
    "#rand() is used to generate random numbers between 0 and 1\n",
    "import numpy as np\n",
    "var = np.random.rand(4)\n",
    "print(var)"
   ]
  },
  {
   "cell_type": "code",
   "execution_count": 48,
   "id": "539ea73e-e17f-4437-91b3-6429f3544d15",
   "metadata": {},
   "outputs": [
    {
     "name": "stdout",
     "output_type": "stream",
     "text": [
      "[[0.58862858 0.4792956  0.30250775 0.63258941 0.503951  ]\n",
      " [0.47443286 0.22750529 0.10247287 0.60556324 0.42412268]\n",
      " [0.61424845 0.32139666 0.8287065  0.53927543 0.29149788]]\n"
     ]
    }
   ],
   "source": [
    "var1 = np.random.rand(3,5)\n",
    "print(var1)"
   ]
  },
  {
   "cell_type": "code",
   "execution_count": 52,
   "id": "7c269038-9699-46e2-ac2e-498893200f9d",
   "metadata": {},
   "outputs": [
    {
     "name": "stdout",
     "output_type": "stream",
     "text": [
      "[-0.03060124 -0.08982139  0.18637958 -0.73256828]\n"
     ]
    }
   ],
   "source": [
    "#randn() is used to generate nos closed to zero may generate negative aswell\n",
    "import numpy as np\n",
    "var = np.random.randn(4)\n",
    "print(var)"
   ]
  },
  {
   "cell_type": "code",
   "execution_count": 54,
   "id": "ebb59997-8ed8-48b9-87da-54ea72bddf97",
   "metadata": {},
   "outputs": [
    {
     "name": "stdout",
     "output_type": "stream",
     "text": [
      "[[ 0.43579579  0.65694472 -0.78500497  1.2322277   0.11980766]\n",
      " [ 0.47960962  1.46665053 -2.05647484  1.14083274  0.13633831]\n",
      " [ 0.52299735 -0.04658825 -0.24444016 -1.55467419 -1.9031218 ]]\n"
     ]
    }
   ],
   "source": [
    "import numpy as np\n",
    "var = np.random.randn(3,5)\n",
    "print(var)"
   ]
  },
  {
   "cell_type": "code",
   "execution_count": 56,
   "id": "9bcdd292-e8a5-4c68-b074-c1f535ac46a1",
   "metadata": {},
   "outputs": [
    {
     "name": "stdout",
     "output_type": "stream",
     "text": [
      "[0.70033364 0.61405121 0.51236042 0.39668013]\n"
     ]
    }
   ],
   "source": [
    "#ranf gives nos starting from 0.0 but less than 1.0 doesnt include 1\n",
    "import numpy as np\n",
    "var = np.random.ranf(4)\n",
    "print(var)"
   ]
  },
  {
   "cell_type": "code",
   "execution_count": 72,
   "id": "ffae323a-9f27-4a5b-b221-8f009433cb73",
   "metadata": {},
   "outputs": [
    {
     "name": "stdout",
     "output_type": "stream",
     "text": [
      "[15 15  9  4  8]\n"
     ]
    }
   ],
   "source": [
    "#randint \n",
    "#randint(min,max,total_value)\n",
    "import numpy as np\n",
    "var = np.random.randint(4,20,5)\n",
    "print(var)"
   ]
  },
  {
   "cell_type": "code",
   "execution_count": 74,
   "id": "b1196661-7dc3-45c7-808b-45a5da65dea0",
   "metadata": {},
   "outputs": [
    {
     "name": "stdout",
     "output_type": "stream",
     "text": [
      "Data Type: int32\n"
     ]
    }
   ],
   "source": [
    "#data_types\n",
    "import numpy as np\n",
    "var = np.array([1,2,3,4,5,6,7,12,13,14,15,16])\n",
    "print(\"Data Type:\", var.dtype)"
   ]
  },
  {
   "cell_type": "code",
   "execution_count": 77,
   "id": "1a0f88ac-74db-4cd6-bda5-b7c04da05ed5",
   "metadata": {},
   "outputs": [
    {
     "name": "stdout",
     "output_type": "stream",
     "text": [
      "Data Type: float64\n"
     ]
    }
   ],
   "source": [
    "import numpy as np\n",
    "var = np.array([1.2,2.3,4.5,6.6])\n",
    "print(\"Data Type:\", var.dtype)"
   ]
  },
  {
   "cell_type": "code",
   "execution_count": 79,
   "id": "4e199f6a-a6b8-45c2-9ace-e782d16bcdb2",
   "metadata": {},
   "outputs": [
    {
     "name": "stdout",
     "output_type": "stream",
     "text": [
      "Data Type: <U1\n"
     ]
    }
   ],
   "source": [
    "import numpy as np\n",
    "var = np.array([\"m\",\"t\"])\n",
    "print(\"Data Type:\", var.dtype)\n"
   ]
  },
  {
   "cell_type": "code",
   "execution_count": 81,
   "id": "e86a0213-63dd-403c-bc3c-3730bfee3d8c",
   "metadata": {},
   "outputs": [
    {
     "name": "stdout",
     "output_type": "stream",
     "text": [
      "Data Type: <U11\n"
     ]
    }
   ],
   "source": [
    "import numpy as np\n",
    "var = np.array([1,2,3,4,5,6,7,12,13,14,15,16,\"t\",\"m\"])\n",
    "print(\"Data Type:\", var.dtype)"
   ]
  },
  {
   "cell_type": "code",
   "execution_count": 87,
   "id": "9f9857c0-0ad7-409c-a4e3-b49aa713949c",
   "metadata": {},
   "outputs": [
    {
     "name": "stdout",
     "output_type": "stream",
     "text": [
      "[1 2 3 4]\n",
      "int8\n"
     ]
    }
   ],
   "source": [
    "import numpy as np\n",
    "var = np.array([1,2,3,4],dtype = np.int8)\n",
    "print(var)\n",
    "print(var.dtype)"
   ]
  },
  {
   "cell_type": "code",
   "execution_count": 91,
   "id": "8102ab91-605e-4831-b4f1-5a756db7b1de",
   "metadata": {},
   "outputs": [
    {
     "name": "stdout",
     "output_type": "stream",
     "text": [
      "[1. 2. 3. 4.]\n",
      "float32\n"
     ]
    }
   ],
   "source": [
    "import numpy as np\n",
    "x = np.array([1,2,3,4],dtype = \"f\")\n",
    "print(x)\n",
    "print(x.dtype)"
   ]
  },
  {
   "cell_type": "code",
   "execution_count": 97,
   "id": "1df9e401-10ff-4a67-ac9f-784269491113",
   "metadata": {},
   "outputs": [
    {
     "name": "stdout",
     "output_type": "stream",
     "text": [
      "[1 2 3 4]\n",
      "[1. 2. 3. 4.]\n",
      "int32\n",
      "float32\n"
     ]
    }
   ],
   "source": [
    "import numpy as np\n",
    "x1 = np.array([1,2,3,4])\n",
    "new = np.float32(x1)\n",
    "print(x1)\n",
    "print(new)\n",
    "print(x1.dtype)\n",
    "print(new.dtype)"
   ]
  },
  {
   "cell_type": "code",
   "execution_count": 99,
   "id": "7fa4304a-058b-48eb-a424-21d04c3fe95c",
   "metadata": {},
   "outputs": [
    {
     "name": "stdout",
     "output_type": "stream",
     "text": [
      "[1 2 3 4]\n",
      "[1. 2. 3. 4.]\n",
      "[1 2 3 4]\n",
      "int32\n",
      "float32\n",
      "int32\n"
     ]
    }
   ],
   "source": [
    "import numpy as np\n",
    "x1 = np.array([1,2,3,4])\n",
    "new = np.float32(x1)\n",
    "new1 = np.int_(new)\n",
    "print(x1)\n",
    "print(new)\n",
    "print(new1)\n",
    "print(x1.dtype)\n",
    "print(new.dtype)\n",
    "print(new1.dtype)"
   ]
  },
  {
   "cell_type": "code",
   "execution_count": 101,
   "id": "05a96515-b172-4093-b7b3-2b8218fb5a7f",
   "metadata": {},
   "outputs": [
    {
     "name": "stdout",
     "output_type": "stream",
     "text": [
      "[1 2 3 4]\n",
      "[1. 2. 3. 4.]\n"
     ]
    }
   ],
   "source": [
    "x3 = np.array([1,2,3,4])\n",
    "neww = x3.astype(float)\n",
    "print(x3)\n",
    "print(neww)"
   ]
  },
  {
   "cell_type": "code",
   "execution_count": 1,
   "id": "5b6a33ba-b4f3-4d58-8588-1cc6b20f42c7",
   "metadata": {},
   "outputs": [
    {
     "name": "stdout",
     "output_type": "stream",
     "text": [
      "[4 5 6 7]\n"
     ]
    }
   ],
   "source": [
    "import numpy as np\n",
    "var = np.array([1,2,3,4])\n",
    "var_add = var + 3\n",
    "print(var_add)"
   ]
  },
  {
   "cell_type": "code",
   "execution_count": 3,
   "id": "373d2583-28c9-4495-9c1f-9a5398877113",
   "metadata": {},
   "outputs": [
    {
     "name": "stdout",
     "output_type": "stream",
     "text": [
      "[2 4 6 8]\n"
     ]
    }
   ],
   "source": [
    "import numpy as np\n",
    "var1 = np.array([1,2,3,4])\n",
    "var2 = np.array([1,2,3,4])\n",
    "var_add = var1 + var2\n",
    "print(var_add)"
   ]
  },
  {
   "cell_type": "code",
   "execution_count": 7,
   "id": "d1df00a7-0e95-4750-83ed-6e3e464cc16b",
   "metadata": {},
   "outputs": [
    {
     "name": "stdout",
     "output_type": "stream",
     "text": [
      "[2 4 6 8]\n"
     ]
    }
   ],
   "source": [
    "import numpy as np\n",
    "var1 = np.array([1,2,3,4])\n",
    "var2 = np.array([1,2,3,4])\n",
    "var_add = np.add(var1,var2)\n",
    "print(var_add)"
   ]
  },
  {
   "cell_type": "code",
   "execution_count": 5,
   "id": "1d637607-cadd-4239-852c-236ba6f47f96",
   "metadata": {},
   "outputs": [
    {
     "name": "stdout",
     "output_type": "stream",
     "text": [
      "[0 0 0 0]\n"
     ]
    }
   ],
   "source": [
    "import numpy as np\n",
    "var1 = np.array([1,2,3,4])\n",
    "var2 = np.array([1,2,3,4])\n",
    "var_sub = var1 - var2\n",
    "print(var_sub)"
   ]
  },
  {
   "cell_type": "code",
   "execution_count": 11,
   "id": "49032b72-a8fc-45bc-971c-797502f5369b",
   "metadata": {},
   "outputs": [
    {
     "name": "stdout",
     "output_type": "stream",
     "text": [
      "[[1 2 3 4]\n",
      " [1 2 3 4]]\n",
      "\n",
      "[[1 2 3 4]\n",
      " [1 2 3 4]]\n",
      "\n",
      "[[2 4 6 8]\n",
      " [2 4 6 8]]\n"
     ]
    }
   ],
   "source": [
    "import numpy as np\n",
    "var1 = np.array([[1,2,3,4],[1,2,3,4]])\n",
    "var2 = np.array([[1,2,3,4],[1,2,3,4]])\n",
    "var_add = var1 + var2\n",
    "print(var1)\n",
    "print()\n",
    "print(var2)\n",
    "print()\n",
    "print(var_add)\n"
   ]
  },
  {
   "cell_type": "code",
   "execution_count": 15,
   "id": "36eabfc8-67f9-4b2d-9561-1d250983ba8c",
   "metadata": {},
   "outputs": [
    {
     "name": "stdout",
     "output_type": "stream",
     "text": [
      "[1 0 0 0]\n"
     ]
    }
   ],
   "source": [
    "import numpy as np\n",
    "var = np.array([1,2,3,4])\n",
    "var_recp = np.reciprocal(var)\n",
    "print(var_recp)"
   ]
  },
  {
   "cell_type": "code",
   "execution_count": 21,
   "id": "525926a3-cc88-41af-8824-afc9411b78b3",
   "metadata": {},
   "outputs": [
    {
     "name": "stdout",
     "output_type": "stream",
     "text": [
      "min:- 1 0\n",
      "max:- 5 4\n",
      "sqrt:- [1.         1.41421356 1.73205081 2.         2.23606798]\n",
      "sin:- [ 0.84147098  0.90929743  0.14112001 -0.7568025  -0.95892427]\n",
      "cos:- [ 0.54030231 -0.41614684 -0.9899925  -0.65364362  0.28366219]\n",
      "cumsum:- [ 1  3  6 10 15]\n"
     ]
    }
   ],
   "source": [
    "import numpy as np\n",
    "var = np.array([1,2,3,4,5])\n",
    "print(\"min:-\",np.min(var),np.argmin(var))\n",
    "print(\"max:-\",np.max(var), np.argmax(var))\n",
    "print(\"sqrt:-\",np.sqrt(var))\n",
    "print(\"sin:-\",np.sin(var))\n",
    "print(\"cos:-\",np.cos(var))\n",
    "print(\"cumsum:-\", np.cumsum(var))"
   ]
  },
  {
   "cell_type": "code",
   "execution_count": 15,
   "id": "f67d57c5-6571-4864-b124-635ae4deb667",
   "metadata": {},
   "outputs": [
    {
     "name": "stdout",
     "output_type": "stream",
     "text": [
      "min:- [1 7]\n",
      "max:- [9 8 7]\n"
     ]
    }
   ],
   "source": [
    "import numpy as np\n",
    "var1 = np.array([[2,1,3],[9,8,7]])\n",
    "print(\"min:-\",np.min(var1, axis = 1))\n",
    "print(\"max:-\",np.max(var1, axis = 0))"
   ]
  },
  {
   "cell_type": "code",
   "execution_count": 25,
   "id": "dcf1901b-2486-4590-b983-f87ce15399ef",
   "metadata": {},
   "outputs": [
    {
     "name": "stdout",
     "output_type": "stream",
     "text": [
      "[[1 2 3 4]\n",
      " [1 2 3 4]]\n",
      "\n",
      "(2, 4)\n"
     ]
    }
   ],
   "source": [
    "import numpy as np\n",
    "var = np.array([[1,2,3,4],[1,2,3,4]])\n",
    "print(var)\n",
    "print()\n",
    "print(var.shape)"
   ]
  },
  {
   "cell_type": "code",
   "execution_count": 27,
   "id": "a491c4ea-1900-493c-bfd2-98728d16f444",
   "metadata": {},
   "outputs": [
    {
     "name": "stdout",
     "output_type": "stream",
     "text": [
      "[[[[1 2 3 4]]]]\n",
      "\n",
      "4\n",
      "\n",
      "(1, 1, 1, 4)\n"
     ]
    }
   ],
   "source": [
    "import numpy as np\n",
    "var1 = np.array([1,2,3,4], ndmin=4)\n",
    "print(var1)\n",
    "print()\n",
    "print(var1.ndim)\n",
    "print()\n",
    "print(var1.shape)"
   ]
  },
  {
   "cell_type": "code",
   "execution_count": 33,
   "id": "c8210124-904f-41c0-93e9-3161c16cb18c",
   "metadata": {},
   "outputs": [
    {
     "name": "stdout",
     "output_type": "stream",
     "text": [
      "[1 2 3 4 5 6]\n",
      "1\n",
      "\n",
      "[[1 2]\n",
      " [3 4]\n",
      " [5 6]]\n",
      "2\n"
     ]
    }
   ],
   "source": [
    "#reshape\n",
    "import numpy as np\n",
    "var = np.array([1,2,3,4,5,6])\n",
    "print(var)\n",
    "print(var.ndim)\n",
    "\n",
    "print()\n",
    "\n",
    "x = var.reshape(3,2)\n",
    "print(x)\n",
    "print(x.ndim)"
   ]
  },
  {
   "cell_type": "code",
   "execution_count": 35,
   "id": "b780f337-bef9-4290-9da3-5eafd68c3dd4",
   "metadata": {},
   "outputs": [
    {
     "name": "stdout",
     "output_type": "stream",
     "text": [
      "[ 1  2  3  4  5  6  7  8  9 10 11 12]\n",
      "1\n",
      "\n",
      "[[[ 1  2]\n",
      "  [ 3  4]\n",
      "  [ 5  6]]\n",
      "\n",
      " [[ 7  8]\n",
      "  [ 9 10]\n",
      "  [11 12]]]\n",
      "3\n"
     ]
    }
   ],
   "source": [
    "#reshape\n",
    "import numpy as np\n",
    "var1 = np.array([1,2,3,4,5,6,7,8,9,10,11,12])\n",
    "print(var1)\n",
    "print(var1.ndim)\n",
    "\n",
    "print()\n",
    "\n",
    "x1 = var1.reshape(2,3,2)\n",
    "print(x1)\n",
    "print(x1.ndim)"
   ]
  },
  {
   "cell_type": "code",
   "execution_count": 37,
   "id": "ca1da889-8765-475c-b5a6-192ed27e204e",
   "metadata": {},
   "outputs": [
    {
     "name": "stdout",
     "output_type": "stream",
     "text": [
      "[ 1  2  3  4  5  6  7  8  9 10 11 12]\n",
      "1\n",
      "\n",
      "[[[ 1  2]\n",
      "  [ 3  4]\n",
      "  [ 5  6]]\n",
      "\n",
      " [[ 7  8]\n",
      "  [ 9 10]\n",
      "  [11 12]]]\n",
      "3\n",
      "\n",
      "[ 1  2  3  4  5  6  7  8  9 10 11 12]\n",
      "1\n"
     ]
    }
   ],
   "source": [
    "#reshape\n",
    "import numpy as np\n",
    "var1 = np.array([1,2,3,4,5,6,7,8,9,10,11,12])\n",
    "print(var1)\n",
    "print(var1.ndim)\n",
    "\n",
    "print()\n",
    "\n",
    "x1 = var1.reshape(2,3,2)\n",
    "print(x1)\n",
    "print(x1.ndim)\n",
    "\n",
    "print()\n",
    "one = x1.reshape(-1)\n",
    "print(one)\n",
    "print(one.ndim)"
   ]
  },
  {
   "cell_type": "code",
   "execution_count": 43,
   "id": "4b7bcff3-8ac6-4445-9b7b-34928dad6d4a",
   "metadata": {},
   "outputs": [
    {
     "name": "stdout",
     "output_type": "stream",
     "text": [
      "[1 2 3 4]\n",
      "\n",
      "(4,)\n",
      "\n",
      "[[1]\n",
      " [2]\n",
      " [3]\n",
      " [4]]\n",
      "\n",
      "(4, 1)\n",
      "\n",
      "[[2 3 4 5]\n",
      " [3 4 5 6]\n",
      " [4 5 6 7]\n",
      " [5 6 7 8]]\n"
     ]
    }
   ],
   "source": [
    " import numpy as numpy\n",
    "var1 = np.array([1,2,3,4])\n",
    "print(var1)\n",
    "print()\n",
    "print(var1.shape)\n",
    " print()\n",
    "\n",
    "var2 = np.array([[1],[2],[3],[4]])\n",
    "print(var2)\n",
    "print()\n",
    "print(var2.shape)\n",
    "print()\n",
    "print(var1 + var2)"
   ]
  },
  {
   "cell_type": "code",
   "execution_count": 45,
   "id": "137e8dfc-5664-43f3-a766-0c5b7caaadcf",
   "metadata": {},
   "outputs": [
    {
     "name": "stdout",
     "output_type": "stream",
     "text": [
      "[[1]\n",
      " [2]]\n",
      "\n",
      "(2, 1)\n",
      "\n",
      "[[1 2 3]\n",
      " [4 5 6]]\n",
      "\n",
      "(2, 3)\n",
      "\n",
      "[[2 3 4]\n",
      " [6 7 8]]\n"
     ]
    }
   ],
   "source": [
    "import numpy as np\n",
    "x = np.array([[1],[2]])\n",
    "print(x)\n",
    "print()\n",
    "print(x.shape)\n",
    "print()\n",
    "\n",
    "y = np.array([[1,2,3],[4,5,6]])\n",
    "print(y)\n",
    "print()\n",
    "print(y.shape)\n",
    "print()\n",
    "print(x+y)"
   ]
  },
  {
   "cell_type": "code",
   "execution_count": 51,
   "id": "2ac05641-016e-4306-add0-ad2d838c622e",
   "metadata": {},
   "outputs": [
    {
     "name": "stdout",
     "output_type": "stream",
     "text": [
      "2\n",
      "1\n"
     ]
    }
   ],
   "source": [
    "#indexing\n",
    "import numpy as np\n",
    "var = np.array([1,2,3,4])\n",
    "print(var[1])\n",
    "print(var[-4])\n"
   ]
  },
  {
   "cell_type": "code",
   "execution_count": 55,
   "id": "e9ac7f95-06f2-4999-9e26-ecbfe33d5adb",
   "metadata": {},
   "outputs": [
    {
     "name": "stdout",
     "output_type": "stream",
     "text": [
      "[[9 8 7]\n",
      " [6 5 4]]\n",
      "\n",
      "2\n",
      "\n",
      "7\n",
      "4\n"
     ]
    }
   ],
   "source": [
    "import numpy as np\n",
    "var = np.array([[9,8,7],[6,5,4]])\n",
    "print(var)\n",
    "print()\n",
    "print(var.ndim)\n",
    "print()\n",
    "print(var[0,2])\n",
    "print(var[1,2])\n"
   ]
  },
  {
   "cell_type": "code",
   "execution_count": 57,
   "id": "fe1e3fee-28ad-41c0-be3b-be378eee1b49",
   "metadata": {},
   "outputs": [
    {
     "name": "stdout",
     "output_type": "stream",
     "text": [
      "[[[1 2]\n",
      "  [6 7]]]\n",
      "\n",
      "3\n",
      "\n",
      "7\n"
     ]
    }
   ],
   "source": [
    "import numpy as np\n",
    "var = np.array([[[1,2],[6,7]]])\n",
    "print(var)\n",
    "print()\n",
    "print(var.ndim)\n",
    "print()\n",
    "print(var[0,1,1])"
   ]
  },
  {
   "cell_type": "code",
   "execution_count": 75,
   "id": "e23d1f63-7045-452a-806d-ad542cab8dec",
   "metadata": {},
   "outputs": [
    {
     "name": "stdout",
     "output_type": "stream",
     "text": [
      "[1 2 3 4 5 6 7 8 9]\n",
      "\n",
      "2 to 6: [2 3 4 5 6]\n",
      "2 to 6: [2 4 6]\n",
      "2 to end: [2 3 4 5 6 7 8 9]\n",
      "start to 6: [1 2 3 4 5 6]\n",
      "start to end: [1 2 3 4 5 6 7 8 9]\n",
      "start to end: [1 3 5 7 9]\n"
     ]
    }
   ],
   "source": [
    "#slicing\n",
    "import numpy as np\n",
    "var = np.array([1,2,3,4,5,6,7,8,9])\n",
    "#               0,1,2,3,4,5,6,7,8\n",
    "print(var)\n",
    "print()\n",
    "print(\"2 to 6:\",var[1:6])\n",
    "print(\"2 to 6:\",var[1:6:2])\n",
    "print(\"2 to end:\",var[1:])\n",
    "print(\"start to 6:\",var[:6])\n",
    "print(\"start to end:\",var[:])\n",
    "print(\"start to end:\",var[::2])\n",
    "\n",
    "\n",
    "\n",
    "\n",
    "\n",
    "\n",
    "\n",
    "\n"
   ]
  },
  {
   "cell_type": "code",
   "execution_count": 81,
   "id": "8a755d6e-4771-40c0-b0b4-7f53b78008ef",
   "metadata": {},
   "outputs": [
    {
     "name": "stdout",
     "output_type": "stream",
     "text": [
      "[[ 1  2  3  4  5]\n",
      " [ 6  7  8  9 10]\n",
      " [11 12 13 14 15]]\n",
      "\n",
      "[ 7  8  9 10]\n",
      "[7 8 9]\n"
     ]
    }
   ],
   "source": [
    "import numpy as np\n",
    "var = np.array([[1,2,3,4,5],[6,7,8,9,10],[11,12,13,14,15]])\n",
    "print(var)\n",
    "print()\n",
    "print(var[1,1:])\n",
    "print(var[1,1:4])"
   ]
  },
  {
   "cell_type": "code",
   "execution_count": 1,
   "id": "62488ce2-d64c-492c-9689-8d22c04911e9",
   "metadata": {},
   "outputs": [
    {
     "name": "stdout",
     "output_type": "stream",
     "text": [
      "[1 2 3 4 5]\n",
      "\n",
      "1\n",
      "2\n",
      "3\n",
      "4\n",
      "5\n"
     ]
    }
   ],
   "source": [
    "import numpy as np\n",
    "var = np.array([1,2,3,4,5])\n",
    "print(var)\n",
    "print()\n",
    "for i in var:\n",
    "    print(i)"
   ]
  },
  {
   "cell_type": "code",
   "execution_count": 5,
   "id": "57503c83-4de4-41fe-a32c-cd512e9c110a",
   "metadata": {},
   "outputs": [
    {
     "name": "stdout",
     "output_type": "stream",
     "text": [
      "[[1 2 3 4]\n",
      " [5 6 7 8]]\n",
      "\n",
      "[[1 2 3 4]\n",
      " [5 6 7 8]]\n",
      "[[1 2 3 4]\n",
      " [5 6 7 8]]\n",
      "\n",
      "1\n",
      "2\n",
      "3\n",
      "4\n",
      "5\n",
      "6\n",
      "7\n",
      "8\n"
     ]
    }
   ],
   "source": [
    "import numpy as np\n",
    "var1 = np.array([[1,2,3,4],[5,6,7,8]])\n",
    "print(var1)\n",
    "print()\n",
    "for i in var1:\n",
    "    print(var1)\n",
    "print()\n",
    "for i in var1:\n",
    "    for k in i:\n",
    "        print(k)"
   ]
  },
  {
   "cell_type": "code",
   "execution_count": 7,
   "id": "4bcd31a6-c09a-4a34-9ca3-ddc49ad9e5a8",
   "metadata": {},
   "outputs": [
    {
     "name": "stdout",
     "output_type": "stream",
     "text": [
      "[[[1 2 3 4]\n",
      "  [5 6 7 8]]]\n",
      "\n",
      "3\n",
      "\n",
      "1\n",
      "2\n",
      "3\n",
      "4\n",
      "5\n",
      "6\n",
      "7\n",
      "8\n"
     ]
    }
   ],
   "source": [
    "import numpy as np\n",
    "var3 = np.array([[[1,2,3,4],[5,6,7,8]]])\n",
    "print(var3)\n",
    "print()\n",
    "print(var3.ndim)\n",
    "print()\n",
    "for i in var3:\n",
    "    for j in i:\n",
    "        for k in j:\n",
    "            print(k)"
   ]
  },
  {
   "cell_type": "code",
   "execution_count": 9,
   "id": "95314775-93f2-406a-83c8-913df568bf58",
   "metadata": {},
   "outputs": [
    {
     "name": "stdout",
     "output_type": "stream",
     "text": [
      "[[[1 2 3 4]\n",
      "  [5 6 7 8]]]\n",
      "\n",
      "3\n",
      "\n",
      "1\n",
      "2\n",
      "3\n",
      "4\n",
      "5\n",
      "6\n",
      "7\n",
      "8\n"
     ]
    }
   ],
   "source": [
    "import numpy as np\n",
    "var3 = np.array([[[1,2,3,4],[5,6,7,8]]])\n",
    "print(var3)\n",
    "print()\n",
    "print(var3.ndim)\n",
    "print()\n",
    "for i in np.nditer(var3):\n",
    "    print(i)"
   ]
  },
  {
   "cell_type": "code",
   "execution_count": 13,
   "id": "27e542f3-0c87-4819-8426-38180f65a03c",
   "metadata": {},
   "outputs": [
    {
     "name": "stdout",
     "output_type": "stream",
     "text": [
      "[[[1 2 3 4]\n",
      "  [5 6 7 8]]]\n",
      "\n",
      "3\n",
      "\n",
      "(0, 0, 0) 1\n",
      "(0, 0, 1) 2\n",
      "(0, 0, 2) 3\n",
      "(0, 0, 3) 4\n",
      "(0, 1, 0) 5\n",
      "(0, 1, 1) 6\n",
      "(0, 1, 2) 7\n",
      "(0, 1, 3) 8\n"
     ]
    }
   ],
   "source": [
    "import numpy as np\n",
    "var3 = np.array([[[1,2,3,4],[5,6,7,8]]])\n",
    "print(var3)\n",
    "print()\n",
    "print(var3.ndim)\n",
    "print()\n",
    "for i,d in np.ndenumerate(var3):\n",
    "    print(i,d)"
   ]
  },
  {
   "cell_type": "code",
   "execution_count": 23,
   "id": "a6d7fd13-2e4d-4f3a-81af-7252197e2a0d",
   "metadata": {},
   "outputs": [
    {
     "name": "stdout",
     "output_type": "stream",
     "text": [
      "x:- [ 1 40  3  4]\n",
      "\n",
      "copy:- [1 2 3 4]\n"
     ]
    }
   ],
   "source": [
    "# COPY vs VIEW\n",
    "import numpy as np\n",
    "x = np.array([1,2,3,4])\n",
    "co = x.copy()\n",
    "x[1]=40\n",
    "print(\"x:-\",x)\n",
    "print()\n",
    "print(\"copy:-\",co)"
   ]
  },
  {
   "cell_type": "code",
   "execution_count": 25,
   "id": "59caa2e5-c1e4-41ce-a999-df58afc67dcb",
   "metadata": {},
   "outputs": [
    {
     "name": "stdout",
     "output_type": "stream",
     "text": [
      "y:- [ 1 34  3  4]\n",
      "view:- [ 1 34  3  4]\n"
     ]
    }
   ],
   "source": [
    "import numpy as np\n",
    "y = np.array([1,2,3,4])\n",
    "vi = y.view()\n",
    "y[1]=34\n",
    "print(\"y:-\",y)\n",
    "print(\"view:-\",vi)\n"
   ]
  },
  {
   "cell_type": "code",
   "execution_count": 3,
   "id": "e06da844-0fc5-454b-a73b-58e998e368ed",
   "metadata": {},
   "outputs": [
    {
     "name": "stdout",
     "output_type": "stream",
     "text": [
      "[1 2 3 4 5 6 7 8]\n"
     ]
    }
   ],
   "source": [
    "#joining\n",
    "import numpy as np\n",
    "var = np.array([1,2,3,4])\n",
    "var1 = np.array([5,6,7,8])\n",
    "var_new = np.concatenate((var,var1))\n",
    "print(var_new)"
   ]
  },
  {
   "cell_type": "code",
   "execution_count": 30,
   "id": "a520dc08-ac00-4a43-a01c-c862da93330f",
   "metadata": {},
   "outputs": [
    {
     "name": "stdout",
     "output_type": "stream",
     "text": [
      "[[1 2 3]\n",
      " [4 5 6]]\n",
      "\n",
      "[[ 5  6  7]\n",
      " [ 8  9 10]]\n",
      "\n",
      "[[ 1  2  3]\n",
      " [ 4  5  6]\n",
      " [ 5  6  7]\n",
      " [ 8  9 10]]\n"
     ]
    }
   ],
   "source": [
    "import numpy as np\n",
    "var = np.array([[1,2,3],[4,5,6]])\n",
    "var1 = np.array([[5,6,7],[8,9,10]])\n",
    "print(var)\n",
    "print()\n",
    "print(var1)\n",
    "print()\n",
    "var_new = np.concatenate((var,var1),axis = 0)\n",
    "print(var_new)"
   ]
  },
  {
   "cell_type": "code",
   "execution_count": 34,
   "id": "b238b538-9ff6-46e0-9dad-5c957ed6609b",
   "metadata": {},
   "outputs": [
    {
     "name": "stdout",
     "output_type": "stream",
     "text": [
      "[1 2 4 5]\n",
      "\n",
      "[5 6 8 9]\n",
      "\n",
      "[[1 2 4 5]\n",
      " [5 6 8 9]]\n",
      "\n",
      "[[1 5]\n",
      " [2 6]\n",
      " [4 8]\n",
      " [5 9]]\n",
      "\n",
      "[1 2 4 5 5 6 8 9]\n",
      "\n",
      "[[1 2 4 5]\n",
      " [5 6 8 9]]\n",
      "\n",
      "[[[1 5]\n",
      "  [2 6]\n",
      "  [4 8]\n",
      "  [5 9]]]\n"
     ]
    }
   ],
   "source": [
    "import numpy as np\n",
    "var = np.array([1,2,4,5])\n",
    "var1 = np.array([5,6,8,9])\n",
    "print(var)\n",
    "print()\n",
    "print(var1)\n",
    "print()\n",
    "var_new = np.stack((var,var1),axis = 0)\n",
    "var_new1 = np.stack((var,var1),axis = 1)\n",
    "var_new2 = np.hstack((var,var1))  #row\n",
    "var_new3 = np.vstack((var,var1))  #column\n",
    "var_new4 = np.dstack((var,var1))  #height\n",
    "\n",
    "\n",
    "print(var_new)\n",
    "print()\n",
    "print(var_new1)\n",
    "print()\n",
    "print(var_new2)\n",
    "print()\n",
    "print(var_new3)\n",
    "print()\n",
    "print(var_new4)\n"
   ]
  },
  {
   "cell_type": "code",
   "execution_count": 42,
   "id": "0e260767-1706-4113-aacb-73a0937758e2",
   "metadata": {},
   "outputs": [
    {
     "name": "stdout",
     "output_type": "stream",
     "text": [
      "[1 2 3 4 5 6]\n",
      "\n",
      "[array([1, 2]), array([3, 4]), array([5, 6])]\n",
      "<class 'list'>\n"
     ]
    }
   ],
   "source": [
    "#splitting\n",
    "import numpy as np\n",
    "var = np.array([1,2,3,4,5,6])\n",
    "print(var)\n",
    "print()\n",
    "var_new = np.array_split(var,3)\n",
    "print(var_new)\n",
    "print(type(var_new))"
   ]
  },
  {
   "cell_type": "code",
   "execution_count": 54,
   "id": "f8f8dea2-1c3c-48c8-b1b1-34c9936b8391",
   "metadata": {},
   "outputs": [
    {
     "name": "stdout",
     "output_type": "stream",
     "text": [
      "[[1 2]\n",
      " [4 5]\n",
      " [8 9]]\n",
      "\n",
      "[array([[1, 2]]), array([[4, 5]]), array([[8, 9]])]\n",
      "\n",
      "[array([[1],\n",
      "       [4],\n",
      "       [8]]), array([[2],\n",
      "       [5],\n",
      "       [9]]), array([], shape=(3, 0), dtype=int32)]\n",
      "<class 'list'>\n"
     ]
    }
   ],
   "source": [
    "#splitting\n",
    "import numpy as np\n",
    "var = np.array([[1,2],[4,5],[8,9]])\n",
    "print(var)\n",
    "print()\n",
    "var_new = np.array_split(var,3)\n",
    "var_new1 = np.array_split(var,3,axis = 1)\n",
    "\n",
    "print(var_new)\n",
    "print()\n",
    "print(var_new1)\n",
    "\n",
    "print(type(var_new))"
   ]
  },
  {
   "cell_type": "code",
   "execution_count": 7,
   "id": "51d2b578-11fb-4a51-bfd7-377e5eba3735",
   "metadata": {},
   "outputs": [
    {
     "name": "stdout",
     "output_type": "stream",
     "text": [
      "(array([1], dtype=int64),)\n",
      "(array([1, 3, 5, 7], dtype=int64),)\n"
     ]
    }
   ],
   "source": [
    "#where condition\n",
    "import numpy as np\n",
    "var = np.array([1,2,3,4,5,6,7,8,9])\n",
    "x = np.where((var == 2))\n",
    "y = np.where((var%2)==0)\n",
    "print(x)\n",
    "print(y)\n",
    "\n"
   ]
  },
  {
   "cell_type": "code",
   "execution_count": 17,
   "id": "839f5bb2-8ab6-4dbf-949d-73d8a5e627c9",
   "metadata": {},
   "outputs": [
    {
     "name": "stdout",
     "output_type": "stream",
     "text": [
      "[4]\n",
      "[5]\n",
      "[4]\n",
      "[4 5 6]\n"
     ]
    }
   ],
   "source": [
    "#search sorted\n",
    "import numpy as np\n",
    "var = np.array([1,2,3,4,5,6])\n",
    "x = np.searchsorted(var,[5])\n",
    "y = np.searchsorted(var,[5],side=\"right\")\n",
    "z = np.searchsorted(var,[5],side=\"left\")\n",
    "z1 = np.searchsorted(var,[5,6,7],side=\"left\")\n",
    "\n",
    "\n",
    "print(x)\n",
    "print(y)\n",
    "print(z)\n",
    "print(z1)\n",
    "\n"
   ]
  },
  {
   "cell_type": "code",
   "execution_count": 19,
   "id": "ca5d4c23-dfb1-4fda-b427-f9acc386fcbe",
   "metadata": {},
   "outputs": [
    {
     "name": "stdout",
     "output_type": "stream",
     "text": [
      "[1 2 3 4 5 6 7 8 9]\n"
     ]
    }
   ],
   "source": [
    "import numpy as np\n",
    "var = np.array([1,4,2,3,5,7,8,6,9])\n",
    "x = np.sort(var)\n",
    "print(x)"
   ]
  },
  {
   "cell_type": "code",
   "execution_count": 21,
   "id": "61c08aa2-23dc-45ff-8946-efbabf2351b4",
   "metadata": {},
   "outputs": [
    {
     "name": "stdout",
     "output_type": "stream",
     "text": [
      "['v' 'x' 'y' 'z']\n"
     ]
    }
   ],
   "source": [
    "import numpy as np\n",
    "var = np.array(['v','z','y','x'])\n",
    "x = np.sort(var)\n",
    "print(x)"
   ]
  },
  {
   "cell_type": "code",
   "execution_count": 23,
   "id": "3448f327-29b0-44e7-b1e8-eab1106541ef",
   "metadata": {},
   "outputs": [
    {
     "name": "stdout",
     "output_type": "stream",
     "text": [
      "[[ 1  2  3]\n",
      " [ 5  6  7]\n",
      " [ 8  9 10]]\n"
     ]
    }
   ],
   "source": [
    "#sort\n",
    "import numpy as np\n",
    "var = np.array([[2,1,3],[5,7,6],[9,10,8]])\n",
    "x = np.sort(var)\n",
    "print(x)"
   ]
  },
  {
   "cell_type": "code",
   "execution_count": 29,
   "id": "355f1756-296a-4f45-afba-f75a1de3e553",
   "metadata": {},
   "outputs": [
    {
     "name": "stdout",
     "output_type": "stream",
     "text": [
      "['m' 't']\n",
      "<class 'numpy.ndarray'>\n"
     ]
    }
   ],
   "source": [
    "#filter array\n",
    "import numpy as np\n",
    "var = np.array(['m','o','p','t'])\n",
    "f = [True, False, False, True]\n",
    "var1 = var[f]\n",
    "print(var1)\n",
    "print(type(var1))"
   ]
  },
  {
   "cell_type": "code",
   "execution_count": 31,
   "id": "b91f08a7-4257-40da-b89b-32ab4b099ee5",
   "metadata": {},
   "outputs": [
    {
     "name": "stdout",
     "output_type": "stream",
     "text": [
      "[1 4 2 3 5]\n"
     ]
    }
   ],
   "source": [
    "#shuffle\n",
    "import numpy as np\n",
    "var = np.array([1,3,4,2,5])\n",
    "np.random.shuffle(var)\n",
    "print(var)\n"
   ]
  },
  {
   "cell_type": "code",
   "execution_count": 39,
   "id": "5def4622-c8fb-40a7-ac5c-4dca4af50795",
   "metadata": {},
   "outputs": [
    {
     "name": "stdout",
     "output_type": "stream",
     "text": [
      "(array([1, 2, 3, 4, 5, 6, 7, 8, 9]), array([ 0,  1,  4,  5,  6,  7,  8,  9, 14], dtype=int64), array([1, 3, 1, 1, 1, 1, 1, 5, 5], dtype=int64))\n"
     ]
    }
   ],
   "source": [
    "#unique\n",
    "import numpy as np\n",
    "var = np.array([1,2,2,2,3,4,5,6,7,8,8,8,8,8,9,9,9,9,9])\n",
    "x = np.unique(var, return_index=True, return_counts=True)\n",
    "print(x)"
   ]
  },
  {
   "cell_type": "code",
   "execution_count": 45,
   "id": "c2416cd2-228d-48db-b92d-2d836037d4b4",
   "metadata": {},
   "outputs": [
    {
     "name": "stdout",
     "output_type": "stream",
     "text": [
      "[[1 2]\n",
      " [3 4]\n",
      " [5 6]]\n"
     ]
    }
   ],
   "source": [
    "#resize\n",
    "import numpy as np\n",
    "var = np.array([1,2,3,4,5,6])\n",
    "x = np.resize(var,(3,2))\n",
    "print(x)"
   ]
  },
  {
   "cell_type": "code",
   "execution_count": 65,
   "id": "8b798257-a356-4185-a059-3f11eb3b1ce1",
   "metadata": {},
   "outputs": [
    {
     "name": "stdout",
     "output_type": "stream",
     "text": [
      "[[1 2]\n",
      " [3 4]\n",
      " [5 6]]\n",
      "\n",
      "flatten:- [1 3 5 2 4 6]\n",
      "\n",
      "ravel:- [1 2 3 4 5 6]\n"
     ]
    }
   ],
   "source": [
    "#flatten and ravel\n",
    "import numpy as np\n",
    "var = np.array([1,2,3,4,5,6])\n",
    "x = np.resize(var,(3,2))\n",
    "print(x)\n",
    "print()\n",
    "print(\"flatten:-\", x.flatten(order=\"F\"))\n",
    "print()\n",
    "print(\"ravel:-\",np.ravel(x,order=\"k\"))"
   ]
  },
  {
   "cell_type": "code",
   "execution_count": 85,
   "id": "21f2b482-7802-4520-9564-d25e1ac90ece",
   "metadata": {},
   "outputs": [
    {
     "name": "stdout",
     "output_type": "stream",
     "text": [
      "[1 2 7 3 4 5 6]\n",
      "\n",
      "[1.  2.  3.  4.  5.  6.  2.5]\n"
     ]
    }
   ],
   "source": [
    "#insert and append\n",
    "import numpy as np\n",
    "var = np.array([1,2,3,4,5,6])\n",
    "v = np.insert(var,2,7)\n",
    "w = np.append(var,2.5)\n",
    "print(v)\n",
    "print()\n",
    "print(w)\n"
   ]
  },
  {
   "cell_type": "code",
   "execution_count": 93,
   "id": "fb32f5aa-d232-49c5-91d8-e6b5b17eb36c",
   "metadata": {},
   "outputs": [
    {
     "name": "stdout",
     "output_type": "stream",
     "text": [
      "[[1 2 3]\n",
      " [1 2 3]\n",
      " [3 3 3]]\n",
      "\n",
      "[[1 2 3 3]\n",
      " [1 2 3 3]]\n",
      "\n",
      "[[ 1  2  3]\n",
      " [ 1  2  3]\n",
      " [23 34 56]]\n"
     ]
    }
   ],
   "source": [
    "import numpy as np\n",
    "var = np.array([[1,2,3],[1,2,3]])\n",
    "v = np.insert(var,2,3, axis = 0)\n",
    "w = np.insert(var,2,3, axis = 1)\n",
    "x = np.append(var,[[23,34,56]],axis=0)\n",
    "\n",
    "print(v)\n",
    "print()\n",
    "print(w)\n",
    "print()\n",
    "print(x)"
   ]
  },
  {
   "cell_type": "code",
   "execution_count": 95,
   "id": "f38a6f09-7fbe-4a94-ba02-aee3e7d521e8",
   "metadata": {},
   "outputs": [
    {
     "name": "stdout",
     "output_type": "stream",
     "text": [
      "[1 2 3 5]\n"
     ]
    }
   ],
   "source": [
    "#delete\n",
    "import numpy as np\n",
    "var = np.array([1,2,3,4,5])\n",
    "v = np.delete(var,3)\n",
    "print(v)\n"
   ]
  },
  {
   "cell_type": "code",
   "execution_count": 9,
   "id": "b59fde8d-344c-4dbb-900c-bf916fde13a9",
   "metadata": {},
   "outputs": [
    {
     "name": "stdout",
     "output_type": "stream",
     "text": [
      "[[1 2]\n",
      " [4 5]]\n",
      "\n",
      "[[ 2  4]\n",
      " [ 8 10]]\n",
      "\n",
      "[[ 9 12]\n",
      " [24 33]]\n",
      "<class 'numpy.matrix'>\n"
     ]
    }
   ],
   "source": [
    "#matrix\n",
    "import numpy as np\n",
    "var = np.matrix([[1,2],[4,5]])\n",
    "var1 = np.matrix([[1,2],[4,5]])\n",
    "print(var)\n",
    "print()\n",
    "print(var+var1)\n",
    "print()\n",
    "print(var.dot(var1))\n",
    "print(type(var))"
   ]
  },
  {
   "cell_type": "code",
   "execution_count": 19,
   "id": "00a767b7-0825-4608-a1d3-d97dd3d74091",
   "metadata": {},
   "outputs": [
    {
     "name": "stdout",
     "output_type": "stream",
     "text": [
      "[[1 2 3]\n",
      " [4 5 6]]\n",
      "\n",
      "[[1 4]\n",
      " [2 5]\n",
      " [3 6]]\n",
      "\n",
      "[[1 4]\n",
      " [2 5]\n",
      " [3 6]]\n",
      "\n",
      "[[1 4]\n",
      " [2 5]\n",
      " [3 6]]\n"
     ]
    }
   ],
   "source": [
    "import numpy as np\n",
    "var = np.matrix([[1,2,3],[4,5,6]])\n",
    "print(var)\n",
    "print()\n",
    "print(np.transpose(var))\n",
    "print()\n",
    "print(var.T)\n",
    "print()\n",
    "print(np.swapaxes(var,0,1))"
   ]
  },
  {
   "cell_type": "code",
   "execution_count": 23,
   "id": "3d15e06e-e5c7-4bbe-a103-5ddfde95b0f6",
   "metadata": {},
   "outputs": [
    {
     "name": "stdout",
     "output_type": "stream",
     "text": [
      "[[1 2]\n",
      " [3 4]]\n",
      "\n",
      "[[1 3]\n",
      " [2 4]]\n"
     ]
    }
   ],
   "source": [
    "import numpy as np\n",
    "var = np.matrix([[1,2],[3,4]])\n",
    "print(var)\n",
    "print()\n",
    "print(np.swapaxes(var,0,1))"
   ]
  },
  {
   "cell_type": "code",
   "execution_count": 27,
   "id": "ac3bea3f-aa31-4a2f-b023-bbe9a9f26b62",
   "metadata": {},
   "outputs": [
    {
     "name": "stdout",
     "output_type": "stream",
     "text": [
      "[[1 2]\n",
      " [3 4]]\n",
      "\n",
      "[[-2.   1. ]\n",
      " [ 1.5 -0.5]]\n"
     ]
    }
   ],
   "source": [
    "import numpy as np\n",
    "var = np.matrix([[1,2],[3,4]])\n",
    "print(var)\n",
    "print()\n",
    "print(np.linalg.inv(var))\n"
   ]
  },
  {
   "cell_type": "code",
   "execution_count": 38,
   "id": "f5ae60e5-19fa-4dc3-bd60-932c523dab3f",
   "metadata": {},
   "outputs": [
    {
     "name": "stdout",
     "output_type": "stream",
     "text": [
      "[[1 2]\n",
      " [3 4]]\n",
      "\n",
      "[[ 7 10]\n",
      " [15 22]]\n",
      "\n",
      "[[1 0]\n",
      " [0 1]]\n",
      "\n",
      "[[ 5.5  -2.5 ]\n",
      " [-3.75  1.75]]\n"
     ]
    }
   ],
   "source": [
    "import numpy as np\n",
    "var = np.matrix([[1,2],[3,4]])\n",
    "print(var)\n",
    "print()\n",
    "print(np.linalg.matrix_power(var,2))\n",
    "print()\n",
    "print(np.linalg.matrix_power(var,0))\n",
    "print()\n",
    "print(np.linalg.matrix_power(var,-2))\n"
   ]
  },
  {
   "cell_type": "code",
   "execution_count": 40,
   "id": "70d473ed-e9ca-44e7-a2eb-07c8f93c9b95",
   "metadata": {},
   "outputs": [
    {
     "name": "stdout",
     "output_type": "stream",
     "text": [
      "[[1 2]\n",
      " [3 4]]\n",
      "\n",
      "-2.0000000000000004\n"
     ]
    }
   ],
   "source": [
    "import numpy as np\n",
    "var = np.matrix([[1,2],[3,4]])\n",
    "print(var)\n",
    "print()\n",
    "print(np.linalg.det(var))"
   ]
  },
  {
   "cell_type": "code",
   "execution_count": 42,
   "id": "75ece576-3c04-4337-a31f-d19750c61112",
   "metadata": {},
   "outputs": [
    {
     "name": "stdout",
     "output_type": "stream",
     "text": [
      "[[1 2 3]\n",
      " [3 4 5]\n",
      " [6 7 8]]\n",
      "\n",
      "-3.7007434154172e-17\n"
     ]
    }
   ],
   "source": [
    "import numpy as np\n",
    "var = np.matrix([[1,2,3],[3,4,5],[6,7,8]])\n",
    "print(var)\n",
    "print()\n",
    "print(np.linalg.det(var))"
   ]
  },
  {
   "cell_type": "code",
   "execution_count": null,
   "id": "5c5a612b-2493-4af8-908b-b041678ec3b7",
   "metadata": {},
   "outputs": [],
   "source": []
  }
 ],
 "metadata": {
  "kernelspec": {
   "display_name": "Python [conda env:base] *",
   "language": "python",
   "name": "conda-base-py"
  },
  "language_info": {
   "codemirror_mode": {
    "name": "ipython",
    "version": 3
   },
   "file_extension": ".py",
   "mimetype": "text/x-python",
   "name": "python",
   "nbconvert_exporter": "python",
   "pygments_lexer": "ipython3",
   "version": "3.11.7"
  }
 },
 "nbformat": 4,
 "nbformat_minor": 5
}
